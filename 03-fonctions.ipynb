{
 "cells": [
  {
   "cell_type": "markdown",
   "id": "1fa8c3d6-9910-48b1-93b9-ae112b4d88d0",
   "metadata": {
    "slideshow": {
     "slide_type": "slide"
    },
    "tags": []
   },
   "source": [
    "# Les fonctions et les boucles\n",
    "\n",
    "Ce cours est téléchargeable à l'adresse https://github.com/sdunesme/formation-python"
   ]
  },
  {
   "cell_type": "markdown",
   "id": "6bd56713-858e-4c02-8144-ed6285d237be",
   "metadata": {
    "slideshow": {
     "slide_type": "slide"
    },
    "tags": []
   },
   "source": [
    "## Les boucles\n",
    "\n",
    "Les boucles sont des éléments essentiels de la programmation. Elles permettent de rejouer un morceau de code plusieurs fois en faisant varier certains éléments, généralement des variables.\n",
    "\n",
    "### La boucle for et la structure conditionnelle de base\n",
    "\n",
    "La boucle for permet d'itérer une variable selon une liste, un dictionnaire ou un itérateur (comme le générateur `range()`) par exemple."
   ]
  },
  {
   "cell_type": "code",
   "execution_count": 21,
   "id": "68f0af35-43f1-486d-864d-a0975eaf914c",
   "metadata": {},
   "outputs": [
    {
     "name": "stdout",
     "output_type": "stream",
     "text": [
      "chêne\n",
      "charme\n",
      "hêtre\n",
      "cocotier\n"
     ]
    }
   ],
   "source": [
    "especes = ['chêne', 'charme', 'hêtre', 'cocotier']\n",
    "\n",
    "for arbre in especes:\n",
    "    print(arbre)"
   ]
  },
  {
   "cell_type": "markdown",
   "id": "1e8ead4c-557c-4023-9e8f-8f2d8b984d52",
   "metadata": {
    "slideshow": {
     "slide_type": "slide"
    },
    "tags": []
   },
   "source": [
    "La structure conditionnelle `if...else` est également un élément essentiel en programmation. Elle permet de n'exécuter une partie du code que si une condition est remplie."
   ]
  },
  {
   "cell_type": "code",
   "execution_count": 22,
   "id": "0eecaa0d-f762-4b47-86a8-3ffaac5f3380",
   "metadata": {
    "tags": []
   },
   "outputs": [
    {
     "name": "stdout",
     "output_type": "stream",
     "text": [
      "chêne\n",
      "charme\n",
      "hêtre <- ne contient pas la lettre C\n",
      "cocotier <- ne pousse pas dans le coin\n"
     ]
    }
   ],
   "source": [
    "# On démarre la boucle\n",
    "for arbre in especes:\n",
    "    \n",
    "    # On réalise un test logique\n",
    "    if arbre == \"cocotier\":\n",
    "        # Si ce test est validé, on concatène la chaine avec une autre\n",
    "        print(arbre + ' <- ne pousse pas dans le coin')\n",
    "    # Si le premier test n'est pas validé, on en fait un autre\n",
    "    elif 'c' not in arbre:\n",
    "        # Si ce second test est validé, on concatène une autre chaine\n",
    "        print(arbre + ' <- ne contient pas la lettre C')\n",
    "    # Si aucun test n'est validé\n",
    "    else:\n",
    "        # On renvoie directement la chaine telle quelle\n",
    "        print(arbre)"
   ]
  },
  {
   "cell_type": "markdown",
   "id": "14405565-aabd-4bbd-8a2b-d0d64c261780",
   "metadata": {
    "slideshow": {
     "slide_type": "slide"
    },
    "tags": []
   },
   "source": [
    "La fonction `zip()` permet d'itérer deux objets en même temps pendant une boucle."
   ]
  },
  {
   "cell_type": "code",
   "execution_count": 30,
   "id": "92d4777c-dded-41ae-9f67-616f045f2424",
   "metadata": {},
   "outputs": [
    {
     "name": "stdout",
     "output_type": "stream",
     "text": [
      "Il y a 9 arbres de type chêne\n",
      "Il y a 5 arbres de type charme\n",
      "Il y a 3 arbres de type hêtre\n",
      "Il y a 4 arbres de type cocotier\n"
     ]
    }
   ],
   "source": [
    "especes = ['chêne', 'charme', 'hêtre', 'cocotier']\n",
    "nombre = [9, 5, 3, 4]\n",
    "\n",
    "for nb, espece in zip(nombre, especes):\n",
    "    print(f'Il y a {nb} arbres de type {espece}')"
   ]
  },
  {
   "cell_type": "markdown",
   "id": "90d264ea-e35f-4ea6-a5ef-c2f1504ab015",
   "metadata": {
    "slideshow": {
     "slide_type": "slide"
    },
    "tags": []
   },
   "source": [
    "### La boucle while\n",
    "\n",
    "La boucle while permet d'exécuter du code en boucle tant qu'une condition est remplie."
   ]
  },
  {
   "cell_type": "code",
   "execution_count": 6,
   "id": "7df73e14-7a52-4ce8-8fad-78c5ce2a5182",
   "metadata": {
    "slideshow": {
     "slide_type": "fragment"
    },
    "tags": []
   },
   "outputs": [
    {
     "name": "stdout",
     "output_type": "stream",
     "text": [
      "[4, 7, 9, 5, 4, 1, 7, 4, 6, 8, 3, 10, 10, 8, 4, 0, 4, 10, 10, 5, 0, 0, 7, 8, 7, 1, 2, 7, 7, 6, 3, 6, 1, 10, 0, 10, 3, 10, 2, 7, 10, 1, 0, 8, 8, 8, 9, 8, 8, 3, 2]\n"
     ]
    }
   ],
   "source": [
    "# On importe la fonction \"randint\" du module random\n",
    "from random import randint\n",
    "\n",
    "# On initialise une liste vide\n",
    "ma_liste = list()\n",
    "\n",
    "# Tant que la longueur de la liste est inférieure ou égale à 50 éléments\n",
    "while len(ma_liste) <= 50:\n",
    "    # On ajoute un entier aléatoire entre 0 et 10 à la liste\n",
    "    ma_liste.append(randint(0,10))\n",
    "                      \n",
    "print(ma_liste)"
   ]
  },
  {
   "cell_type": "markdown",
   "id": "00a8636b-ab3c-443d-807d-e1bbcdfb148c",
   "metadata": {
    "slideshow": {
     "slide_type": "slide"
    },
    "tags": []
   },
   "source": [
    "Il est également fréquent d'utiliser une variable incrémentable avec une boucle while."
   ]
  },
  {
   "cell_type": "code",
   "execution_count": 10,
   "id": "76ac439f-5c66-4583-9de6-2d13d5741b60",
   "metadata": {
    "slideshow": {
     "slide_type": "fragment"
    },
    "tags": []
   },
   "outputs": [
    {
     "name": "stdout",
     "output_type": "stream",
     "text": [
      "0 mississipi\n",
      "1 mississipi\n",
      "2 missisipis\n",
      "3 missisipis\n",
      "4 missisipis\n",
      "5 missisipis\n",
      "6 missisipis\n",
      "7 missisipis\n",
      "8 missisipis\n",
      "9 missisipis\n",
      "10 missisipis\n",
      "11 missisipis\n",
      "12 missisipis\n",
      "13 missisipis\n",
      "14 missisipis\n",
      "15 missisipis\n"
     ]
    }
   ],
   "source": [
    "# On initialise une variable de type int à 0\n",
    "i = 0\n",
    "\n",
    "# Tant que notre variable est strictement inférieure à 16, la boucle s'exécutera\n",
    "while i < 16:\n",
    "    \n",
    "    if i >= 2:\n",
    "        ajout = 'missisipis'\n",
    "    else:\n",
    "        ajout = 'mississipi'\n",
    "        \n",
    "    print(str(i) + ' ' + ajout)\n",
    "    \n",
    "    # On incrémente notre variable de 1. La variable est directement mise à jour\n",
    "    i += 1"
   ]
  },
  {
   "cell_type": "markdown",
   "id": "57c78147-263f-4464-8e6f-0878da9fb444",
   "metadata": {
    "slideshow": {
     "slide_type": "slide"
    },
    "tags": []
   },
   "source": [
    "Attention: si on ne fait pas attention il est très facile de créer une boucle infinie avec while. Dans ce cas, il faudra utiliser `Ctrl+C` pour forcer son arrêt, ou le bouton stop dans un Jupyter notebook."
   ]
  },
  {
   "cell_type": "code",
   "execution_count": 9,
   "id": "9e90b87d-441c-44c1-81d7-87262805d872",
   "metadata": {
    "slideshow": {
     "slide_type": "fragment"
    },
    "tags": []
   },
   "outputs": [
    {
     "ename": "KeyboardInterrupt",
     "evalue": "",
     "output_type": "error",
     "traceback": [
      "\u001b[0;31m---------------------------------------------------------------------------\u001b[0m",
      "\u001b[0;31mKeyboardInterrupt\u001b[0m                         Traceback (most recent call last)",
      "\u001b[0;32m/tmp/ipykernel_13832/2044646855.py\u001b[0m in \u001b[0;36m<module>\u001b[0;34m\u001b[0m\n\u001b[1;32m      1\u001b[0m \u001b[0;32mwhile\u001b[0m \u001b[0;32mTrue\u001b[0m\u001b[0;34m:\u001b[0m\u001b[0;34m\u001b[0m\u001b[0;34m\u001b[0m\u001b[0m\n\u001b[0;32m----> 2\u001b[0;31m     \u001b[0;32mpass\u001b[0m\u001b[0;34m\u001b[0m\u001b[0;34m\u001b[0m\u001b[0m\n\u001b[0m",
      "\u001b[0;31mKeyboardInterrupt\u001b[0m: "
     ]
    }
   ],
   "source": [
    "while True:\n",
    "    pass"
   ]
  },
  {
   "cell_type": "markdown",
   "id": "80927cc8-a9e5-4ba5-a3be-42c0e4566782",
   "metadata": {
    "slideshow": {
     "slide_type": "slide"
    },
    "tags": []
   },
   "source": [
    "## Premières fonctions\n",
    "\n",
    "Une fonction est un morceau de code amené à être répété de nombreuses fois. Les développeurs étant des gens fainéants, ils écrivent des fonctions pour éviter d'avoir à recopier tout le temps la même chose !\n",
    "\n",
    "Une fonction est définie à minima par son nom et les arguments dont elle a besoin pour fonctionner. Elle peut retourner un objet."
   ]
  },
  {
   "cell_type": "code",
   "execution_count": 3,
   "id": "05809c7f-ff1d-4336-9a9e-159730a70686",
   "metadata": {
    "slideshow": {
     "slide_type": "fragment"
    },
    "tags": []
   },
   "outputs": [
    {
     "name": "stdout",
     "output_type": "stream",
     "text": [
      "L'individu Georges Abitbol a 71 ans\n"
     ]
    }
   ],
   "source": [
    "def decrire_individu(prenom, nom, age):\n",
    "    message = f'L\\'individu {prenom} {nom} a {age} ans'\n",
    "    \n",
    "    return message\n",
    "\n",
    "print( decrire_individu(prenom='Georges', nom='Abitbol', age=71) )"
   ]
  },
  {
   "cell_type": "markdown",
   "id": "a5ed29fd-11f7-4688-9917-ebd52565153e",
   "metadata": {
    "slideshow": {
     "slide_type": "slide"
    },
    "tags": []
   },
   "source": [
    "Une variable déclarée dans une fonction ne peux pas être utilisée en dehors de celle-ci (sauf dans certains cas d'usage avancé). C'est la notion de portée d'une variable."
   ]
  },
  {
   "cell_type": "code",
   "execution_count": 5,
   "id": "37be4990-5b53-4b5d-bb7f-cded82b2e4fe",
   "metadata": {},
   "outputs": [
    {
     "ename": "NameError",
     "evalue": "name 'message' is not defined",
     "output_type": "error",
     "traceback": [
      "\u001b[0;31m---------------------------------------------------------------------------\u001b[0m",
      "\u001b[0;31mNameError\u001b[0m                                 Traceback (most recent call last)",
      "\u001b[0;32m/tmp/ipykernel_13832/3463849412.py\u001b[0m in \u001b[0;36m<module>\u001b[0;34m\u001b[0m\n\u001b[0;32m----> 1\u001b[0;31m \u001b[0mprint\u001b[0m\u001b[0;34m(\u001b[0m\u001b[0mmessage\u001b[0m\u001b[0;34m)\u001b[0m\u001b[0;34m\u001b[0m\u001b[0;34m\u001b[0m\u001b[0m\n\u001b[0m",
      "\u001b[0;31mNameError\u001b[0m: name 'message' is not defined"
     ]
    }
   ],
   "source": [
    "print(message)"
   ]
  },
  {
   "cell_type": "markdown",
   "id": "faf5f785-7587-4cde-8317-db7119e3e7da",
   "metadata": {
    "slideshow": {
     "slide_type": "slide"
    },
    "tags": []
   },
   "source": [
    "Il est possible que des valeurs par défaut soient déclarés au moment de la définition de la fonction. Ces arguments deviennent alors optionnels lorsque l'on fera appel à cette fonction."
   ]
  },
  {
   "cell_type": "code",
   "execution_count": 26,
   "id": "42886b7c-f388-49b6-b725-a509818d0976",
   "metadata": {},
   "outputs": [
    {
     "name": "stdout",
     "output_type": "stream",
     "text": [
      "L'individu Georges Abitbol a 71 ans\n",
      "L'individu Georges Abitbol a 30 ans\n"
     ]
    }
   ],
   "source": [
    "def decrire_individu(prenom, nom, age = 30):\n",
    "    message = f'L\\'individu {prenom} {nom} a {age} ans'\n",
    "    \n",
    "    return message\n",
    "\n",
    "print(decrire_individu(prenom='Georges', nom='Abitbol', age=71))\n",
    "print(decrire_individu(prenom='Georges', nom='Abitbol'))"
   ]
  },
  {
   "cell_type": "markdown",
   "id": "ffe975b5-931a-4246-aa21-1a9f7e586439",
   "metadata": {
    "slideshow": {
     "slide_type": "slide"
    },
    "tags": []
   },
   "source": [
    "## Lire et écrire dans un fichier"
   ]
  },
  {
   "cell_type": "code",
   "execution_count": 15,
   "id": "8cd57fa0-9c02-430e-9d53-5f263e0282da",
   "metadata": {},
   "outputs": [
    {
     "name": "stdout",
     "output_type": "stream",
     "text": [
      "<_io.TextIOWrapper name='datasets/iris.csv' mode='r' encoding='UTF-8'>\n"
     ]
    }
   ],
   "source": [
    "f = open('datasets/iris.csv')\n",
    "print(f)"
   ]
  },
  {
   "cell_type": "code",
   "execution_count": 16,
   "id": "3323a115-c938-4db3-9f5b-3d278baa08b9",
   "metadata": {
    "slideshow": {
     "slide_type": "fragment"
    },
    "tags": []
   },
   "outputs": [
    {
     "name": "stdout",
     "output_type": "stream",
     "text": [
      "['\"\",\"Sepal.Length\",\"Sepal.Width\",\"Petal.Length\",\"Petal.Width\",\"Species\"\\n', '\"1\",5.1,3.5,1.4,0.2,\"setosa\"\\n', '\"2\",4.9,3,1.4,0.2,\"setosa\"\\n', '\"3\",4.7,3.2,1.3,0.2,\"setosa\"\\n', '\"4\",4.6,3.1,1.5,0.2,\"setosa\"\\n', '\"5\",5,3.6,1.4,0.2,\"setosa\"\\n', '\"6\",5.4,3.9,1.7,0.4,\"setosa\"\\n', '\"7\",4.6,3.4,1.4,0.3,\"setosa\"\\n', '\"8\",5,3.4,1.5,0.2,\"setosa\"\\n', '\"9\",4.4,2.9,1.4,0.2,\"setosa\"\\n', '\"10\",4.9,3.1,1.5,0.1,\"setosa\"\\n', '\"11\",5.4,3.7,1.5,0.2,\"setosa\"\\n', '\"12\",4.8,3.4,1.6,0.2,\"setosa\"\\n', '\"13\",4.8,3,1.4,0.1,\"setosa\"\\n', '\"14\",4.3,3,1.1,0.1,\"setosa\"\\n', '\"15\",5.8,4,1.2,0.2,\"setosa\"\\n', '\"16\",5.7,4.4,1.5,0.4,\"setosa\"\\n', '\"17\",5.4,3.9,1.3,0.4,\"setosa\"\\n', '\"18\",5.1,3.5,1.4,0.3,\"setosa\"\\n', '\"19\",5.7,3.8,1.7,0.3,\"setosa\"\\n', '\"20\",5.1,3.8,1.5,0.3,\"setosa\"\\n', '\"21\",5.4,3.4,1.7,0.2,\"setosa\"\\n', '\"22\",5.1,3.7,1.5,0.4,\"setosa\"\\n', '\"23\",4.6,3.6,1,0.2,\"setosa\"\\n', '\"24\",5.1,3.3,1.7,0.5,\"setosa\"\\n', '\"25\",4.8,3.4,1.9,0.2,\"setosa\"\\n', '\"26\",5,3,1.6,0.2,\"setosa\"\\n', '\"27\",5,3.4,1.6,0.4,\"setosa\"\\n', '\"28\",5.2,3.5,1.5,0.2,\"setosa\"\\n', '\"29\",5.2,3.4,1.4,0.2,\"setosa\"\\n', '\"30\",4.7,3.2,1.6,0.2,\"setosa\"\\n', '\"31\",4.8,3.1,1.6,0.2,\"setosa\"\\n', '\"32\",5.4,3.4,1.5,0.4,\"setosa\"\\n', '\"33\",5.2,4.1,1.5,0.1,\"setosa\"\\n', '\"34\",5.5,4.2,1.4,0.2,\"setosa\"\\n', '\"35\",4.9,3.1,1.5,0.2,\"setosa\"\\n', '\"36\",5,3.2,1.2,0.2,\"setosa\"\\n', '\"37\",5.5,3.5,1.3,0.2,\"setosa\"\\n', '\"38\",4.9,3.6,1.4,0.1,\"setosa\"\\n', '\"39\",4.4,3,1.3,0.2,\"setosa\"\\n', '\"40\",5.1,3.4,1.5,0.2,\"setosa\"\\n', '\"41\",5,3.5,1.3,0.3,\"setosa\"\\n', '\"42\",4.5,2.3,1.3,0.3,\"setosa\"\\n', '\"43\",4.4,3.2,1.3,0.2,\"setosa\"\\n', '\"44\",5,3.5,1.6,0.6,\"setosa\"\\n', '\"45\",5.1,3.8,1.9,0.4,\"setosa\"\\n', '\"46\",4.8,3,1.4,0.3,\"setosa\"\\n', '\"47\",5.1,3.8,1.6,0.2,\"setosa\"\\n', '\"48\",4.6,3.2,1.4,0.2,\"setosa\"\\n', '\"49\",5.3,3.7,1.5,0.2,\"setosa\"\\n', '\"50\",5,3.3,1.4,0.2,\"setosa\"\\n', '\"51\",7,3.2,4.7,1.4,\"versicolor\"\\n', '\"52\",6.4,3.2,4.5,1.5,\"versicolor\"\\n', '\"53\",6.9,3.1,4.9,1.5,\"versicolor\"\\n', '\"54\",5.5,2.3,4,1.3,\"versicolor\"\\n', '\"55\",6.5,2.8,4.6,1.5,\"versicolor\"\\n', '\"56\",5.7,2.8,4.5,1.3,\"versicolor\"\\n', '\"57\",6.3,3.3,4.7,1.6,\"versicolor\"\\n', '\"58\",4.9,2.4,3.3,1,\"versicolor\"\\n', '\"59\",6.6,2.9,4.6,1.3,\"versicolor\"\\n', '\"60\",5.2,2.7,3.9,1.4,\"versicolor\"\\n', '\"61\",5,2,3.5,1,\"versicolor\"\\n', '\"62\",5.9,3,4.2,1.5,\"versicolor\"\\n', '\"63\",6,2.2,4,1,\"versicolor\"\\n', '\"64\",6.1,2.9,4.7,1.4,\"versicolor\"\\n', '\"65\",5.6,2.9,3.6,1.3,\"versicolor\"\\n', '\"66\",6.7,3.1,4.4,1.4,\"versicolor\"\\n', '\"67\",5.6,3,4.5,1.5,\"versicolor\"\\n', '\"68\",5.8,2.7,4.1,1,\"versicolor\"\\n', '\"69\",6.2,2.2,4.5,1.5,\"versicolor\"\\n', '\"70\",5.6,2.5,3.9,1.1,\"versicolor\"\\n', '\"71\",5.9,3.2,4.8,1.8,\"versicolor\"\\n', '\"72\",6.1,2.8,4,1.3,\"versicolor\"\\n', '\"73\",6.3,2.5,4.9,1.5,\"versicolor\"\\n', '\"74\",6.1,2.8,4.7,1.2,\"versicolor\"\\n', '\"75\",6.4,2.9,4.3,1.3,\"versicolor\"\\n', '\"76\",6.6,3,4.4,1.4,\"versicolor\"\\n', '\"77\",6.8,2.8,4.8,1.4,\"versicolor\"\\n', '\"78\",6.7,3,5,1.7,\"versicolor\"\\n', '\"79\",6,2.9,4.5,1.5,\"versicolor\"\\n', '\"80\",5.7,2.6,3.5,1,\"versicolor\"\\n', '\"81\",5.5,2.4,3.8,1.1,\"versicolor\"\\n', '\"82\",5.5,2.4,3.7,1,\"versicolor\"\\n', '\"83\",5.8,2.7,3.9,1.2,\"versicolor\"\\n', '\"84\",6,2.7,5.1,1.6,\"versicolor\"\\n', '\"85\",5.4,3,4.5,1.5,\"versicolor\"\\n', '\"86\",6,3.4,4.5,1.6,\"versicolor\"\\n', '\"87\",6.7,3.1,4.7,1.5,\"versicolor\"\\n', '\"88\",6.3,2.3,4.4,1.3,\"versicolor\"\\n', '\"89\",5.6,3,4.1,1.3,\"versicolor\"\\n', '\"90\",5.5,2.5,4,1.3,\"versicolor\"\\n', '\"91\",5.5,2.6,4.4,1.2,\"versicolor\"\\n', '\"92\",6.1,3,4.6,1.4,\"versicolor\"\\n', '\"93\",5.8,2.6,4,1.2,\"versicolor\"\\n', '\"94\",5,2.3,3.3,1,\"versicolor\"\\n', '\"95\",5.6,2.7,4.2,1.3,\"versicolor\"\\n', '\"96\",5.7,3,4.2,1.2,\"versicolor\"\\n', '\"97\",5.7,2.9,4.2,1.3,\"versicolor\"\\n', '\"98\",6.2,2.9,4.3,1.3,\"versicolor\"\\n', '\"99\",5.1,2.5,3,1.1,\"versicolor\"\\n', '\"100\",5.7,2.8,4.1,1.3,\"versicolor\"\\n', '\"101\",6.3,3.3,6,2.5,\"virginica\"\\n', '\"102\",5.8,2.7,5.1,1.9,\"virginica\"\\n', '\"103\",7.1,3,5.9,2.1,\"virginica\"\\n', '\"104\",6.3,2.9,5.6,1.8,\"virginica\"\\n', '\"105\",6.5,3,5.8,2.2,\"virginica\"\\n', '\"106\",7.6,3,6.6,2.1,\"virginica\"\\n', '\"107\",4.9,2.5,4.5,1.7,\"virginica\"\\n', '\"108\",7.3,2.9,6.3,1.8,\"virginica\"\\n', '\"109\",6.7,2.5,5.8,1.8,\"virginica\"\\n', '\"110\",7.2,3.6,6.1,2.5,\"virginica\"\\n', '\"111\",6.5,3.2,5.1,2,\"virginica\"\\n', '\"112\",6.4,2.7,5.3,1.9,\"virginica\"\\n', '\"113\",6.8,3,5.5,2.1,\"virginica\"\\n', '\"114\",5.7,2.5,5,2,\"virginica\"\\n', '\"115\",5.8,2.8,5.1,2.4,\"virginica\"\\n', '\"116\",6.4,3.2,5.3,2.3,\"virginica\"\\n', '\"117\",6.5,3,5.5,1.8,\"virginica\"\\n', '\"118\",7.7,3.8,6.7,2.2,\"virginica\"\\n', '\"119\",7.7,2.6,6.9,2.3,\"virginica\"\\n', '\"120\",6,2.2,5,1.5,\"virginica\"\\n', '\"121\",6.9,3.2,5.7,2.3,\"virginica\"\\n', '\"122\",5.6,2.8,4.9,2,\"virginica\"\\n', '\"123\",7.7,2.8,6.7,2,\"virginica\"\\n', '\"124\",6.3,2.7,4.9,1.8,\"virginica\"\\n', '\"125\",6.7,3.3,5.7,2.1,\"virginica\"\\n', '\"126\",7.2,3.2,6,1.8,\"virginica\"\\n', '\"127\",6.2,2.8,4.8,1.8,\"virginica\"\\n', '\"128\",6.1,3,4.9,1.8,\"virginica\"\\n', '\"129\",6.4,2.8,5.6,2.1,\"virginica\"\\n', '\"130\",7.2,3,5.8,1.6,\"virginica\"\\n', '\"131\",7.4,2.8,6.1,1.9,\"virginica\"\\n', '\"132\",7.9,3.8,6.4,2,\"virginica\"\\n', '\"133\",6.4,2.8,5.6,2.2,\"virginica\"\\n', '\"134\",6.3,2.8,5.1,1.5,\"virginica\"\\n', '\"135\",6.1,2.6,5.6,1.4,\"virginica\"\\n', '\"136\",7.7,3,6.1,2.3,\"virginica\"\\n', '\"137\",6.3,3.4,5.6,2.4,\"virginica\"\\n', '\"138\",6.4,3.1,5.5,1.8,\"virginica\"\\n', '\"139\",6,3,4.8,1.8,\"virginica\"\\n', '\"140\",6.9,3.1,5.4,2.1,\"virginica\"\\n', '\"141\",6.7,3.1,5.6,2.4,\"virginica\"\\n', '\"142\",6.9,3.1,5.1,2.3,\"virginica\"\\n', '\"143\",5.8,2.7,5.1,1.9,\"virginica\"\\n', '\"144\",6.8,3.2,5.9,2.3,\"virginica\"\\n', '\"145\",6.7,3.3,5.7,2.5,\"virginica\"\\n', '\"146\",6.7,3,5.2,2.3,\"virginica\"\\n', '\"147\",6.3,2.5,5,1.9,\"virginica\"\\n', '\"148\",6.5,3,5.2,2,\"virginica\"\\n', '\"149\",6.2,3.4,5.4,2.3,\"virginica\"\\n', '\"150\",5.9,3,5.1,1.8,\"virginica\"\\n']\n"
     ]
    }
   ],
   "source": [
    "iris_data = f.readlines()\n",
    "print(iris_data)"
   ]
  },
  {
   "cell_type": "code",
   "execution_count": 19,
   "id": "ffc31217-c3ad-4877-ab71-072eed5bbe98",
   "metadata": {
    "slideshow": {
     "slide_type": "slide"
    },
    "tags": []
   },
   "outputs": [],
   "source": [
    "f.close()"
   ]
  },
  {
   "cell_type": "markdown",
   "id": "6eb558cd-f716-4374-923b-495e195a5c8e",
   "metadata": {
    "slideshow": {
     "slide_type": "slide"
    },
    "tags": []
   },
   "source": [
    "Une bonne pratique est d'utiliser un contexte. Cela évite d'oublier de fermer le fichier ou de réinitialiser l'itérateur"
   ]
  },
  {
   "cell_type": "code",
   "execution_count": 20,
   "id": "cfffcbcc-b12a-4c32-9e55-4e97225c6bcc",
   "metadata": {
    "slideshow": {
     "slide_type": "fragment"
    },
    "tags": []
   },
   "outputs": [],
   "source": [
    "# Ici on ouvre le fichier en mode lecture seule ('r' pour read)\n",
    "with open('datasets/iris.csv', 'r') as f:\n",
    "    iris_data = f.readlines()"
   ]
  },
  {
   "cell_type": "code",
   "execution_count": 28,
   "id": "5138eb02-b696-43d4-80c9-be8d8e22151c",
   "metadata": {
    "slideshow": {
     "slide_type": "fragment"
    },
    "tags": []
   },
   "outputs": [],
   "source": [
    "# Là on ouvre un autre fichier en mode écriture ('w' pour write)\n",
    "with open('datasets/output/monfichier.txt', 'w') as f:\n",
    "    texte = decrire_individu(prenom='Georges', nom='Abitbol', age=71)\n",
    "    f.write(texte)"
   ]
  },
  {
   "cell_type": "code",
   "execution_count": 29,
   "id": "9817ae15-93ad-4f49-ad39-b955a31de884",
   "metadata": {
    "slideshow": {
     "slide_type": "fragment"
    },
    "tags": []
   },
   "outputs": [],
   "source": [
    "# Et enfin, ici on l'ouvre en mode ajout ('a' pour append)\n",
    "with open('datasets/output/monfichier.txt', 'a') as f:\n",
    "    \n",
    "    # On réalise une itération sur 2 listes en même temps avec la fonction zip\n",
    "    for nom, age in zip(['Clooney', 'Brassens', 'Pompidou'], [61, 101, 111]):\n",
    "        \n",
    "        # On écrit d'abord un retour à la ligne, puis on génère notre merveilleuse phrase\n",
    "        f.write('\\n')\n",
    "        texte = decrire_individu(prenom='Georges', nom=nom, age=age)\n",
    "        f.write(texte)"
   ]
  },
  {
   "cell_type": "markdown",
   "id": "485f104b-b86b-4485-96d1-04432c849704",
   "metadata": {
    "slideshow": {
     "slide_type": "slide"
    },
    "tags": []
   },
   "source": [
    "## Capturer les erreurs\n",
    "\n",
    "Capturer un type d'erreur permet d'exécuter du code en cas de déclenchement de cette erreur. Cela permet également de la rendre non bloquante dans l'exécution d'une boucle par exemple."
   ]
  },
  {
   "cell_type": "code",
   "execution_count": 19,
   "id": "85a0063b-9f6e-481f-9cc8-f8f1b7e1eb2c",
   "metadata": {
    "slideshow": {
     "slide_type": "slide"
    },
    "tags": []
   },
   "outputs": [
    {
     "name": "stdout",
     "output_type": "stream",
     "text": [
      "Dans ma soupe, je met des patates\n",
      "miam\n",
      "Dans ma soupe, je met des carottes\n",
      "miam\n",
      "Dans ma soupe, je met des navets\n",
      "miam\n"
     ]
    },
    {
     "ename": "TypeError",
     "evalue": "can only concatenate str (not \"float\") to str",
     "output_type": "error",
     "traceback": [
      "\u001b[0;31m---------------------------------------------------------------------------\u001b[0m",
      "\u001b[0;31mTypeError\u001b[0m                                 Traceback (most recent call last)",
      "\u001b[0;32m/tmp/ipykernel_13832/2908755025.py\u001b[0m in \u001b[0;36m<module>\u001b[0;34m\u001b[0m\n\u001b[1;32m      2\u001b[0m \u001b[0;34m\u001b[0m\u001b[0m\n\u001b[1;32m      3\u001b[0m \u001b[0;32mfor\u001b[0m \u001b[0mitem\u001b[0m \u001b[0;32min\u001b[0m \u001b[0mliste\u001b[0m\u001b[0;34m:\u001b[0m\u001b[0;34m\u001b[0m\u001b[0;34m\u001b[0m\u001b[0m\n\u001b[0;32m----> 4\u001b[0;31m     \u001b[0mprint\u001b[0m\u001b[0;34m(\u001b[0m\u001b[0;34m\"Dans ma soupe, je met des \"\u001b[0m \u001b[0;34m+\u001b[0m \u001b[0mitem\u001b[0m\u001b[0;34m)\u001b[0m\u001b[0;34m\u001b[0m\u001b[0;34m\u001b[0m\u001b[0m\n\u001b[0m\u001b[1;32m      5\u001b[0m     \u001b[0mprint\u001b[0m\u001b[0;34m(\u001b[0m\u001b[0;34m\"miam\"\u001b[0m\u001b[0;34m)\u001b[0m\u001b[0;34m\u001b[0m\u001b[0;34m\u001b[0m\u001b[0m\n",
      "\u001b[0;31mTypeError\u001b[0m: can only concatenate str (not \"float\") to str"
     ]
    }
   ],
   "source": [
    "liste = ['patates', 'carottes', 'navets', 9.56, 'brocolis', 'poireaux']\n",
    "\n",
    "for item in liste:\n",
    "    print(\"Dans ma soupe, je met des \" + item)\n",
    "    print(\"miam\")"
   ]
  },
  {
   "cell_type": "code",
   "execution_count": 20,
   "id": "dbaa7923-2aa5-436e-a515-3d3f5cd5d9f2",
   "metadata": {
    "slideshow": {
     "slide_type": "slide"
    },
    "tags": []
   },
   "outputs": [
    {
     "name": "stdout",
     "output_type": "stream",
     "text": [
      "Dans ma soupe, je met des patates\n",
      "miam\n",
      "Dans ma soupe, je met des carottes\n",
      "miam\n",
      "Dans ma soupe, je met des navets\n",
      "miam\n",
      "Dans ma soupe, je met des brocolis\n",
      "miam\n",
      "Dans ma soupe, je met des poireaux\n",
      "miam\n"
     ]
    }
   ],
   "source": [
    "for item in liste:\n",
    "    try:\n",
    "        print(\"Dans ma soupe, je met des \" + item)\n",
    "    except TypeError:\n",
    "        continue\n",
    "        \n",
    "    print(\"miam\")"
   ]
  }
 ],
 "metadata": {
  "kernelspec": {
   "display_name": "Python 3 (ipykernel)",
   "language": "python",
   "name": "python3"
  },
  "language_info": {
   "codemirror_mode": {
    "name": "ipython",
    "version": 3
   },
   "file_extension": ".py",
   "mimetype": "text/x-python",
   "name": "python",
   "nbconvert_exporter": "python",
   "pygments_lexer": "ipython3",
   "version": "3.7.3"
  }
 },
 "nbformat": 4,
 "nbformat_minor": 5
}
